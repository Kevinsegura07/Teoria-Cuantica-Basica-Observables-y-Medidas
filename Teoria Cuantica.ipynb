{
 "cells": [
  {
   "cell_type": "markdown",
   "id": "a07bd584",
   "metadata": {},
   "source": [
    "## Teoría cuántica básica, Observables y Medidas  \n",
    "La mecánica cuántica es la teoría física que describe el comportamiento de los sistemas a escala microscópica. A diferencia de la mecánica clásica, en la mecánica cuántica los sistemas no tienen valores definidos para sus propiedades hasta que son medidos."
   ]
  },
  {
   "cell_type": "markdown",
   "id": "d6ed0825",
   "metadata": {},
   "source": [
    "# Simule el primer sistema cuántico descrito en la sección 4.1\n",
    "El sistema consiste en una partícula confinada a un conjunto discreto de posiciones en una línea. El simulador debe permitir especificar el número de posiciones y un vector ket de estado asignando las amplitudes.\n",
    "\n",
    "1. El sistema debe calcular la probabilidad de encontrarlo en una posición en particular.\n",
    "\n",
    "Simula una partícula cuántica confinada a posiciones discretas en una línea. El sistema calcula:\n",
    "- Probabilidad de encontrar la partícula en cada posición\n",
    "- Genera visualización de la distribución de probabilidades\n",
    "\n"
   ]
  },
  {
   "cell_type": "code",
   "execution_count": null,
   "id": "21c43852",
   "metadata": {},
   "outputs": [
    {
     "name": "stdout",
     "output_type": "stream",
     "text": [
      "Probabilidad en posición 2: 0.3333\n",
      "\n",
      "Probabilidades en todas las posiciones:\n",
      "Posición 0: 0.3333\n",
      "Posición 1: 0.0000\n",
      "Posición 2: 0.3333\n",
      "Posición 3: 0.3333\n"
     ]
    },
    {
     "data": {
      "image/png": "[encoded data removed]",
      "text/plain": [
       "<Figure size 1000x500 with 1 Axes>"
      ]
     },
     "metadata": {},
     "output_type": "display_data"
    }
   ],
   "source": [
    "import numpy as np\n",
    "import matplotlib.pyplot as plt\n",
    "\n",
    "def simular_sistema_cuantico(num_posiciones, estado_ket):\n",
    "    \n",
    "    norma = np.linalg.norm(estado_ket)\n",
    "    if norma == 0:\n",
    "        raise ValueError(\"El vector ket no puede ser cero\")\n",
    "    estado_normalizado = estado_ket / norma\n",
    "    \n",
    "    # Calcular probabilidades\n",
    "    probabilidades = np.abs(estado_normalizado)**2\n",
    "    \n",
    "    def calcular_probabilidad(pos):\n",
    "\n",
    "        if pos < 0 or pos >= num_posiciones:\n",
    "            raise ValueError(f\"Posición debe estar entre 0 y {num_posiciones-1}\")\n",
    "        return probabilidades[pos]\n",
    "    \n",
    "    def mostrar_grafico():\n",
    "    \n",
    "        plt.figure(figsize=(10, 5))\n",
    "        plt.bar(range(num_posiciones), probabilidades, color='skyblue')\n",
    "        plt.xlabel('Posición')\n",
    "        plt.ylabel('Probabilidad')\n",
    "        plt.title('Probabilidad por Posición')\n",
    "        plt.xticks(range(num_posiciones))\n",
    "        plt.grid(axis='y', linestyle='--', alpha=0.7)\n",
    "        plt.show()\n",
    "    \n",
    "    return {\n",
    "        'probabilidades': probabilidades,\n",
    "        'probabilidad_posicion': calcular_probabilidad,\n",
    "        'visualizar': mostrar_grafico\n",
    "    }\n",
    "\n",
    "\n",
    "if __name__ == \"__main__\":\n",
    "  \n",
    "    num_pos = 4\n",
    "    ket = np.array([1, 0, 1, 1], dtype=complex)  \n",
    "    \n",
    "   \n",
    "    sistema = simular_sistema_cuantico(num_pos, ket)\n",
    "    \n",
    "\n",
    "    prob_pos2 = sistema['probabilidad_posicion'](2)\n",
    "    print(f\"Probabilidad en posición 2: {prob_pos2:.4f}\")\n",
    "    \n",
    "   \n",
    "    print(\"\\nProbabilidades en todas las posiciones:\")\n",
    "    for i, prob in enumerate(sistema['probabilidades']):\n",
    "        print(f\"Posición {i}: {prob:.4f}\")\n",
    "    \n",
    "\n",
    "    sistema['visualizar']()"
   ]
  },
  {
   "cell_type": "markdown",
   "id": "c3293f52",
   "metadata": {},
   "source": [
    "---"
   ]
  },
  {
   "cell_type": "markdown",
   "id": "d1828ea6",
   "metadata": {},
   "source": [
    "2. El sistema si se le da otro vector Ket debe buscar la probabilidad de transitar del primer vector al segundo.\n",
    "\n",
    "### 1. **Amplitud de Transición**\n",
    "La probabilidad de transición entre dos estados cuánticos se calcula mediante:\n",
    "\n",
    "```math\n",
    "P(|\\psi\\rangle \\rightarrow |\\phi\\rangle) = |\\langle \\phi | \\psi \\rangle|^2\n",
    "\n",
    "\\|\\psi\\| = \\sqrt{\\langle \\psi | \\psi \\rangle} = 1"
   ]
  },
  {
   "cell_type": "code",
   "execution_count": null,
   "id": "4a43be3a",
   "metadata": {},
   "outputs": [
    {
     "name": "stdout",
     "output_type": "stream",
     "text": [
      "Probabilidad de transición: 0.0000\n",
      "Porcentaje: 0.00%\n"
     ]
    }
   ],
   "source": [
    "import numpy as np\n",
    "\n",
    "def probabilidad_transicion(ket_inicial, ket_final):\n",
    "\n",
    "    # Normalizar ambos estados\n",
    "    def normalizar(ket):\n",
    "        norma = np.linalg.norm(ket)\n",
    "        if norma == 0:\n",
    "            raise ValueError(\"El vector ket no puede ser cero\")\n",
    "        return ket / norma\n",
    "    \n",
    "    psi = normalizar(ket_inicial)\n",
    "    phi = normalizar(ket_final)\n",
    "    \n",
    "    \n",
    "    amplitud = np.vdot(phi, psi) \n",
    "    \n",
    "   \n",
    "    return np.abs(amplitud)**2\n",
    "\n",
    "# Ejemplo de uso:\n",
    "if __name__ == \"__main__\":\n",
    "    # Definir estados (pueden ser complejos)\n",
    "    estado_inicial = np.array([1, 0, 1j, 1])  \n",
    "    estado_final = np.array([0, 1, 0, 0])     \n",
    "    \n",
    "    \n",
    "    prob = probabilidad_transicion(estado_inicial, estado_final)\n",
    "    \n",
    "    print(f\"Probabilidad de transición: {prob:.4f}\")\n",
    "    print(f\"Porcentaje: {prob*100:.2f}%\")"
   ]
  },
  {
   "cell_type": "markdown",
   "id": "6f88483d",
   "metadata": {},
   "source": [
    "----"
   ]
  },
  {
   "cell_type": "markdown",
   "id": "df846b4c",
   "metadata": {},
   "source": [
    "# Complete los retos de programación del capítulo 4.\n",
    "1. Amplitud de transición. El sistema puede recibir dos vectores y calcular la probabilidad de transitar de el uno al otro después de hacer la observación\n"
   ]
  },
  {
   "cell_type": "code",
   "execution_count": null,
   "id": "ea3e104f",
   "metadata": {},
   "outputs": [
    {
     "name": "stdout",
     "output_type": "stream",
     "text": [
      "Probabilidad de transición: 0.5000\n"
     ]
    }
   ],
   "source": [
    "import numpy as np\n",
    "\n",
    "def probabilidad_transicion(estado_inicial, estado_final):\n",
    " \n",
    "    def normalizar(estado):\n",
    "        norma = np.linalg.norm(estado)\n",
    "        return estado / norma if norma != 0 else estado\n",
    "    \n",
    "    psi = normalizar(estado_inicial)\n",
    "    phi = normalizar(estado_final)\n",
    "    \n",
    "    amplitud = np.vdot(phi, psi)  # \\(\\langle \\phi | \\psi \\rangle\\)\n",
    "    \n",
    "   \n",
    "    probabilidad = np.abs(amplitud)**2\n",
    "    return probabilidad\n",
    "\n",
    "\n",
    "estado_inicial = np.array([1, 1j], dtype=complex)  # \\( |\\psi\\rangle \\)\n",
    "estado_final = np.array([1, 0], dtype=complex)     # \\( |\\phi\\rangle \\)\n",
    "\n",
    "\n",
    "prob = probabilidad_transicion(estado_inicial, estado_final)\n",
    "print(f\"Probabilidad de transición: {prob:.4f}\")"
   ]
  },
  {
   "cell_type": "markdown",
   "id": "fbb3c122",
   "metadata": {},
   "source": [
    "2. Ahora con una matriz que describa un observable y un vector ket, el sistema revisa que la matriz sea hermitiana, y si lo es, calcula la media y la varianza del observable en el estado dado.\n",
    "\n",
    "\n",
    "### Para una matriz hermítica $A$ y estado $|\\psi\\rangle$:  \n",
    "\n",
    "1. **Media (valor esperado)**:  \n",
    "   - Promedio cuántico de las mediciones:  \n",
    "     $$\\langle A \\rangle = \\langle \\psi | A | \\psi \\rangle$$  \n",
    "\n",
    "2. **Varianza**:  \n",
    "   - Dispersión de las mediciones:  \n",
    "     $$\\sigma^2 = \\langle A^2 \\rangle - \\langle A \\rangle^2$$  \n",
    "\n",
    "3. **Ejemplo con Pauli-Y**:  \n",
    "   - Para $|\\psi\\rangle = |0\\rangle + i|1\\rangle$:  \n",
    "     - Media: 0 (simetría)  \n",
    "     - Varianza: 1 (máxima incertidumbre)  \n"
   ]
  },
  {
   "cell_type": "code",
   "execution_count": null,
   "id": "a71371b6",
   "metadata": {},
   "outputs": [
    {
     "name": "stdout",
     "output_type": "stream",
     "text": [
      "\n",
      "=== RESULTADOS ===\n",
      "Media (⟨A⟩): 0.000000\n",
      "Varianza (σ²): 1.000000\n",
      "Desviación estándar (σ): 1.000000\n",
      "\n"
     ]
    }
   ],
   "source": [
    "import numpy as np\n",
    "\n",
    "def analizar_observable(A, psi, imprimir=True, graficar=False):\n",
    "\n",
    "    if not np.allclose(A, A.conj().T):\n",
    "        raise ValueError(\"La matriz no es hermítica\")\n",
    "    \n",
    "    psi_norm = psi / np.linalg.norm(psi)\n",
    "    media = np.real(psi_norm.conj().T @ A @ psi_norm).item()\n",
    "    varianza = np.real(psi_norm.conj().T @ A @ A @ psi_norm).item() - media**2\n",
    "    resultados = {\n",
    "        'media': media,\n",
    "        'varianza': varianza,\n",
    "        'desviacion': np.sqrt(varianza)\n",
    "    }\n",
    "    \n",
    "\n",
    "    if imprimir:\n",
    "        print(\"\\n=== RESULTADOS ===\")\n",
    "        print(f\"Media (⟨A⟩): {resultados['media']:.6f}\")\n",
    "        print(f\"Varianza (σ²): {resultados['varianza']:.6f}\")\n",
    "        print(f\"Desviación estándar (σ): {resultados['desviacion']:.6f}\\n\")\n",
    "    \n",
    "  \n",
    "    if graficar:\n",
    "        import matplotlib.pyplot as plt\n",
    "        fig, ax = plt.subplots(figsize=(6, 4))\n",
    "        ax.bar(['⟨A⟩', 'σ²'], [resultados['media'], resultados['varianza']], color=['skyblue', 'salmon'])\n",
    "        ax.set_title('Propiedades del Observable')\n",
    "        plt.show()\n",
    "    \n",
    "    return resultados\n",
    "\n",
    "if __name__ == \"__main__\":\n",
    "    A = np.array([[0, -1j], [1j, 0]], dtype=complex)\n",
    "    psi = np.array([1, 1], dtype=complex)\n",
    "    \n",
    "    resultados = analizar_observable(A, psi, graficar=False)"
   ]
  },
  {
   "cell_type": "markdown",
   "id": "431c16a6",
   "metadata": {},
   "source": [
    "--------------------------------------------------------------------------------------------------------------------------"
   ]
  },
  {
   "cell_type": "markdown",
   "id": "cc3915b1",
   "metadata": {},
   "source": [
    "3. El sistema calcula los valores propios del observable y la probabilidad de que el sistema transite a alguno de los vectores propios después de la observación.\n",
    "#  Evolución Cuántica y Medición del Sistema\n",
    "\n",
    "Se analiza la evolución de un sistema cuántico aplicando una observación mediante un operador hermítico \\( O \\). Se determinan los valores propios del observable y la probabilidad de que el sistema transite a alguno de los estados propios tras la medición.\n",
    "\n",
    "##  Pasos de la solución\n",
    "\n",
    "### 1 **Definir el observable \\( O \\)**\n",
    "   - \\( O \\) es una **matriz hermítica** que representa un operador observable en mecánica cuántica.\n",
    "\n",
    "### 2️ **Calcular los valores propios \\( \\lambda_i \\)**\n",
    "   - Se resuelve la ecuación característica:  \n",
    "     $$ \\det(O - \\lambda I) = 0 $$\n",
    "   - Los **autovalores** \\( \\lambda_i \\) representan los posibles resultados al medir el sistema.\n",
    "\n",
    "### 3️ **Determinar los vectores propios \\( v_i \\)**\n",
    "   - Los **autovectores** asociados forman una base ortonormal:  \n",
    "     $$ O v_i = \\lambda_i v_i $$\n",
    "\n",
    "### 4️ **Calcular la probabilidad de transición**\n"
   ]
  },
  {
   "cell_type": "code",
   "execution_count": 35,
   "id": "28487218",
   "metadata": {},
   "outputs": [
    {
     "data": {
      "text/plain": [
       "(array([0.58578644, 2.        , 3.41421356, 4.        ]),\n",
       " array([[ 0.27059805-0.j,  0.5       +0.j,  0.65328148+0.j,\n",
       "         -0.5       +0.j],\n",
       "        [-0.65328148+0.j, -0.5       +0.j,  0.27059805+0.j,\n",
       "         -0.5       +0.j],\n",
       "        [ 0.65328148-0.j, -0.5       +0.j, -0.27059805+0.j,\n",
       "         -0.5       +0.j],\n",
       "        [-0.27059805+0.j,  0.5       +0.j, -0.65328148+0.j,\n",
       "         -0.5       +0.j]]),\n",
       " array([0.0732233, 0.25     , 0.4267767, 0.25     ]))"
      ]
     },
     "execution_count": 35,
     "metadata": {},
     "output_type": "execute_result"
    }
   ],
   "source": [
    "\n",
    "import numpy as np\n",
    "\n",
    "O = np.array([\n",
    "    [3, 1, 0, 0],\n",
    "    [1, 2, 1, 0],\n",
    "    [0, 1, 2, 1],\n",
    "    [0, 0, 1, 3]\n",
    "], dtype=complex)\n",
    "\n",
    "psi_0 = np.array([1, 0, 0, 0], dtype=complex)\n",
    "\n",
    "\n",
    "eigenvalues, eigenvectors = np.linalg.eigh(O)\n",
    "\n",
    "\n",
    "probabilities = np.abs(eigenvectors.T.conj() @ psi_0) ** 2\n",
    "\n",
    "eigenvalues, eigenvectors, probabilities\n"
   ]
  },
  {
   "cell_type": "markdown",
   "id": "f9468e3d",
   "metadata": {},
   "source": [
    "---------------------------------------------------------------------------------------------------------------------------"
   ]
  },
  {
   "cell_type": "markdown",
   "id": "6cb37883",
   "metadata": {},
   "source": [
    "4. Se considera la dinámica del sistema. Ahora con una serie de matrices Un el sistema calcula el estado final a partir de un estado inicial.\n",
    "\n",
    "# **Evolución Cuántica con Matrices Unitarias**\n",
    "\n",
    "## **Descripción del problema**\n",
    "Se analiza la evolución de un sistema cuántico aplicando una transformación unitaria \\( U \\) a un estado inicial \\( \\psi_0 \\). Luego de tres pasos, se determina la probabilidad de encontrar el sistema en una posición específica.\n",
    "\n",
    "## **Pasos de la solución**\n",
    "1. **Definir la matriz unitaria \\( U \\)**  \n",
    "   Representa la evolución del sistema en cada paso de tiempo.\n",
    "   \n",
    "2. **Establecer el estado inicial \\( \\psi_0 \\)**  \n",
    "\n",
    "\n",
    "3. **Aplicar \\( U \\) tres veces al estado inicial**  \n",
    " \n",
    "   \n",
    "4. **Obtener la probabilidad de estar en la posición 3**  \n",
    "   La probabilidad de encontrar la bola en la posición \\( 3 \\) (índice \\( 2 \\) en Python) es:  \n",
    "   \n"
   ]
  },
  {
   "cell_type": "code",
   "execution_count": null,
   "id": "07954172",
   "metadata": {},
   "outputs": [
    {
     "name": "stdout",
     "output_type": "stream",
     "text": [
      "Estado final del sistema:\n",
      "[0.-0.70710678j 0.+0.j         0.+0.j         0.-0.70710678j]\n"
     ]
    }
   ],
   "source": [
    "import numpy as np\n",
    "\n",
    "U1 = np.array([\n",
    "    [0, 1/np.sqrt(2), 1/np.sqrt(2), 0],\n",
    "    [1j/np.sqrt(2), 0, 0, 1/np.sqrt(2)],\n",
    "    [1/np.sqrt(2), 0, 0, 1j/np.sqrt(2)],\n",
    "    [0, 1/np.sqrt(2), -1/np.sqrt(2), 0]\n",
    "])\n",
    "\n",
    "U2 = np.array([\n",
    "    [1, 0, 0, 0],\n",
    "    [0, 0, 1, 0],\n",
    "    [0, -1, 0, 0],\n",
    "    [0, 0, 0, -1]\n",
    "])\n",
    "\n",
    "U3 = np.array([\n",
    "    [0, -1j, 0, 0],\n",
    "    [1j, 0, 0, 0],\n",
    "    [0, 0, 0, -1],\n",
    "    [0, 0, 1, 0]\n",
    "])\n",
    "\n",
    "\n",
    "psi_0 = np.array([1, 0, 0, 0], dtype=complex)\n",
    "\n",
    "\n",
    "psi_final = U3 @ U2 @ U1 @ psi_0\n",
    "\n",
    "\n",
    "print(\"Estado final del sistema:\")\n",
    "print(psi_final)\n"
   ]
  },
  {
   "cell_type": "markdown",
   "id": "2e56e1bc",
   "metadata": {},
   "source": [
    "---------------------------------------------------------------------------------------------------------------------------"
   ]
  },
  {
   "cell_type": "markdown",
   "id": "5d0d00b1",
   "metadata": {},
   "source": [
    "# Realice los siguientes problemas e incluyalos como ejemplos\n",
    "4.3.1 Encuentre todos los estados posibles a los que puede pasar el sistema descrito en el Ejercicio 4.2.2 después de realizar una medición.\n",
    "\n",
    "### 1. Operador $S_x$ y sus autovectores\n",
    "El operador de spin en dirección x está dado por:\n",
    "$$\n",
    "S_x = \\frac{\\hbar}{2}\\begin{bmatrix}0 & 1 \\\\ 1 & 0\\end{bmatrix}\n",
    "$$\n",
    "\n",
    "**Autovectores (estados propios)**:\n",
    "- $|\\rightarrow\\rangle = \\frac{1}{\\sqrt{2}}\\begin{bmatrix}1 \\\\ 1\\end{bmatrix}$ (valor propio $+\\hbar/2$)\n",
    "- $|\\leftarrow\\rangle = \\frac{1}{\\sqrt{2}}\\begin{bmatrix}1 \\\\ -1\\end{bmatrix}$ (valor propio $-\\hbar/2$)\n",
    "\n",
    "### 2. Postulados cuánticos aplicados\n",
    "- **Postulado de medición**: Al medir un observable ($S_x$), el sistema colapsa a uno de sus autovectores.\n",
    "- **Probabilidad de transición**: $P = |\\langle e|\\psi\\rangle|^2$ (Regla de Born)\n"
   ]
  },
  {
   "cell_type": "code",
   "execution_count": null,
   "id": "5e0a9580",
   "metadata": {},
   "outputs": [
    {
     "name": "stdout",
     "output_type": "stream",
     "text": [
      "Probabilidad de colapsar a |→⟩: 0.50\n",
      "Probabilidad de colapsar a |←⟩: 0.50\n"
     ]
    }
   ],
   "source": [
    "import numpy as np\n",
    "\n",
    "spin_up = np.array([1, 0], dtype=complex)\n",
    "spin_right = np.array([1/np.sqrt(2), 1/np.sqrt(2)], dtype=complex)\n",
    "spin_left = np.array([1/np.sqrt(2), -1/np.sqrt(2)], dtype=complex)\n",
    "\n",
    "\n",
    "prob_right = np.abs(np.vdot(spin_right, spin_up))**2  # |⟨→|↑⟩|²\n",
    "prob_left = np.abs(np.vdot(spin_left, spin_up))**2    # |⟨←|↑⟩|²\n",
    "\n",
    "print(f\"Probabilidad de colapsar a |→⟩: {prob_right:.2f}\")\n",
    "print(f\"Probabilidad de colapsar a |←⟩: {prob_left:.2f}\")"
   ]
  },
  {
   "cell_type": "markdown",
   "id": "01ed3063",
   "metadata": {},
   "source": [
    "---------------------------------------------------------------------------------------------------------------------------"
   ]
  },
  {
   "cell_type": "markdown",
   "id": "56765e99",
   "metadata": {},
   "source": [
    "4.3.2 Realice los mismos cálculos que en el ejemplo anterior, utilizando el Ejercicio 4.3.1. Luego, dibuje la distribución de probabilidad de los valores propios como en el ejemplo anterior.\n",
    "\n",
    "\n",
    "## 🔹 Pasos de la solución  \n",
    "\n",
    "1. **Definir los autovectores y el estado inicial**  \n",
    "   - Se consideran los autovectores $|e_1\\rangle$ y $|e_2\\rangle$ en una base ortonormal.  \n",
    "   - El estado inicial $|\\psi\\rangle$ se expresa como una combinación lineal de estos.  \n",
    "\n",
    "2. **Calcular las probabilidades de medición**  \n",
    "   - Se usa el producto interno $\\langle e_i | \\psi \\rangle$ para hallar la probabilidad de colapsar en cada autovector:  \n",
    "     $$ P(e_i) = |\\langle e_i | \\psi \\rangle|^2 $$  \n",
    "\n",
    "3. **Obtener el valor medio**  \n",
    "   - Se calcula como la media ponderada de los valores propios:  \n",
    "     $$ \\langle A \\rangle = \\sum_i P(e_i) \\lambda_i $$  \n",
    "\n",
    "4. **Visualizar los resultados**  \n",
    "   - Se imprimen las probabilidades y el valor medio.  \n",
    "   - Se grafica la distribución de probabilidad de los valores propios.  "
   ]
  },
  {
   "cell_type": "code",
   "execution_count": null,
   "id": "4cce543d",
   "metadata": {},
   "outputs": [
    {
     "name": "stdout",
     "output_type": "stream",
     "text": [
      "Probabilidad de transición a |e1⟩: 0.50\n",
      "Probabilidad de transición a |e2⟩: 0.50\n",
      "Valor medio de la distribución: 0.00\n"
     ]
    },
    {
     "data": {
      "image/png": "[encoded data removed]",
      "text/plain": [
       "<Figure size 640x480 with 1 Axes>"
      ]
     },
     "metadata": {},
     "output_type": "display_data"
    }
   ],
   "source": [
    "import numpy as np\n",
    "import matplotlib.pyplot as plt\n",
    "\n",
    "e1 = np.array([1, 0], dtype=complex)  \n",
    "e2 = np.array([0, 1], dtype=complex) \n",
    "psi = np.array([1/np.sqrt(2), 1/np.sqrt(2)], dtype=complex) \n",
    "\n",
    "lambda1 = 1.0\n",
    "lambda2 = -1.0\n",
    "\n",
    "p1 = np.abs(np.vdot(e1, psi))**2  \n",
    "p2 = np.abs(np.vdot(e2, psi))**2 \n",
    "\n",
    "\n",
    "mean_value = p1 * lambda1 + p2 * lambda2\n",
    "\n",
    "\n",
    "print(f\"Probabilidad de transición a |e1⟩: {p1:.2f}\")\n",
    "print(f\"Probabilidad de transición a |e2⟩: {p2:.2f}\")\n",
    "print(f\"Valor medio de la distribución: {mean_value:.2f}\")\n",
    "\n",
    "eigenvalues = [lambda1, lambda2]\n",
    "probabilities = [p1, p2]\n",
    "\n",
    "plt.bar(eigenvalues, probabilities, color=['blue', 'orange'])\n",
    "plt.xticks(eigenvalues, [f'λ1 = {lambda1}', f'λ2 = {lambda2}'])\n",
    "plt.xlabel('Valores propios')\n",
    "plt.ylabel('Probabilidad')\n",
    "plt.title('Distribución de probabilidad de los valores propios')\n",
    "plt.ylim(0, 1)\n",
    "plt.grid(axis='y', linestyle='--', alpha=0.7)\n",
    "plt.show()"
   ]
  },
  {
   "cell_type": "markdown",
   "id": "484a8950",
   "metadata": {},
   "source": [
    "---"
   ]
  },
  {
   "cell_type": "markdown",
   "id": "e6abd094",
   "metadata": {},
   "source": [
    "\n",
    "4.4.2 Regresa al Ejemplo 3.3.2 (billar cuántico), mantén el mismo  \n",
    "vector de estado inicial \\([1, 0, 0, 0]^T\\), pero cambia la transformación unitaria a  \n",
    "\n",
    "\\[\n",
    "U =\n",
    "\\begin{bmatrix}\n",
    "0 & \\frac{1}{\\sqrt{2}} & \\frac{1}{\\sqrt{2}} & 0 \\\\\n",
    "\\frac{i}{\\sqrt{2}} & 0 & 0 & \\frac{1}{\\sqrt{2}} \\\\\n",
    "\\frac{1}{\\sqrt{2}} & 0 & 0 & \\frac{i}{\\sqrt{2}} \\\\\n",
    "0 & \\frac{1}{\\sqrt{2}} & -\\frac{1}{\\sqrt{2}} & 0\n",
    "\\end{bmatrix}\n",
    "\\]\n",
    "\n",
    "Determina el estado del sistema después de tres pasos de tiempo.  \n",
    "¿Cuál es la probabilidad de encontrar la bola cuántica en la posición 3?\n",
    "\n",
    "\n",
    "## 🔹 Pasos de la solución  \n",
    "\n",
    "1. **Definir la matriz unitaria $U$**  \n",
    "   - Se establece una matriz $4 \\times 4$ con entradas complejas.  \n",
    "   - $U$ representa la evolución del sistema en un solo paso.  \n",
    "\n",
    "2. **Definir el estado inicial**  \n",
    "   - Se inicia con el estado base $|\\psi_0\\rangle = [1, 0, 0, 0]^T$, indicando que la partícula está en la primera posición.  \n",
    "\n",
    "3. **Aplicar la matriz $U$ tres veces**  \n",
    "   - Se usa la propiedad de potencias de matrices:  \n",
    "     $$ |\\psi_3\\rangle = U^3 |\\psi_0\\rangle $$  \n",
    "   - Esto simula la evolución del sistema tras **tres iteraciones**.  \n",
    "\n",
    "4. **Calcular la probabilidad en la posición 3**  \n",
    "   - En la representación de Python, la **posición 3** corresponde al índice **2**.  \n",
    "   - La probabilidad de encontrar la partícula en esta posición es:  \n",
    "     $$ P(3) = |\\psi_3[2]|^2 $$  \n",
    "\n",
    "5. **Visualizar los resultados**  \n",
    "   - Se imprime el estado final después de **tres pasos**.  \n",
    "   - Se muestra la probabilidad de encontrar la partícula en la **posición 3**."
   ]
  },
  {
   "cell_type": "code",
   "execution_count": 34,
   "id": "85d170fe",
   "metadata": {},
   "outputs": [
    {
     "name": "stdout",
     "output_type": "stream",
     "text": [
      "Estado después de 3 pasos:\n",
      "[ 0.        +0.j         -0.70710678+0.70710678j  0.        +0.j\n",
      "  0.        +0.j        ]\n",
      "\n",
      "Probabilidad de encontrar la bola en la posición 3:\n",
      "0.0\n"
     ]
    }
   ],
   "source": [
    "import numpy as np\n",
    "\n",
    "\n",
    "U = np.array([\n",
    "    [0, 1/np.sqrt(2), 1/np.sqrt(2), 0],\n",
    "    [1j/np.sqrt(2), 0, 0, 1/np.sqrt(2)],\n",
    "    [1/np.sqrt(2), 0, 0, 1j/np.sqrt(2)],\n",
    "    [0, 1/np.sqrt(2), -1/np.sqrt(2), 0]\n",
    "])\n",
    "\n",
    "\n",
    "initial_state = np.array([1, 0, 0, 0], dtype=complex)\n",
    "\n",
    "state_after_3_steps = np.linalg.matrix_power(U, 3) @ initial_state\n",
    "\n",
    "probability_position_3 = np.abs(state_after_3_steps[2])**2\n",
    "\n",
    "print(\"Estado después de 3 pasos:\")\n",
    "print(state_after_3_steps)\n",
    "print(\"\\nProbabilidad de encontrar la bola en la posición 3:\")\n",
    "print(probability_position_3)"
   ]
  },
  {
   "cell_type": "markdown",
   "id": "23a72f00",
   "metadata": {},
   "source": [
    "## Discusion ejercico 4.5.2 y 4.5.3\n",
    "# ejercico 4.5.2\n",
    "Este ejercicio introduce el concepto de entrelazamiento cuántico en sistemas de partículas con espín. Se pide escribir el vector de estado general para un sistema de dos partículas y luego generalizarlo a \n",
    "𝑛\n",
    "n partículas.\n",
    "\n",
    "El ejercicio destaca que, aunque los estados básicos de un sistema compuesto se pueden expresar como productos tensoriales de los estados de sus subsistemas, esto no siempre es posible para cualquier estado cuántico. Algunos estados, como los entrelazados, no pueden descomponerse en productos de estados individuales. Esto demuestra la importancia del entrelazamiento en la computación cuántica y en la representación de información cuántica.\n",
    "\n",
    "# ejercico 4.5.2\n",
    "Este ejercicio analiza un caso específico de entrelazamiento utilizando el estado:\n",
    "Se plantea la pregunta de si este estado es separable. Para responder, se debe verificar si es posible escribirlo como el producto tensorial de dos estados individuales. Como el estado tiene términos cruzados y no puede factorizarse en dos componentes independientes, se concluye que el estado es entrelazado.\n",
    "\n",
    "Esto refuerza la idea de que algunos sistemas cuánticos no pueden describirse simplemente como combinaciones de estados individuales, lo que tiene implicaciones fundamentales en áreas como la computación cuántica y la teoría de la información cuántica."
   ]
  }
 ],
 "metadata": {
  "kernelspec": {
   "display_name": "Python 3",
   "language": "python",
   "name": "python3"
  },
  "language_info": {
   "codemirror_mode": {
    "name": "ipython",
    "version": 3
   },
   "file_extension": ".py",
   "mimetype": "text/x-python",
   "name": "python",
   "nbconvert_exporter": "python",
   "pygments_lexer": "ipython3",
   "version": "3.11.3"
  }
 },
 "nbformat": 4,
 "nbformat_minor": 5
}
